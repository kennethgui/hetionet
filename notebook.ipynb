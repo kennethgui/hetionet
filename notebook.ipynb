{
 "cells": [
  {
   "attachments": {},
   "cell_type": "markdown",
   "metadata": {},
   "source": [
    "Created by: Kenneth Guillont"
   ]
  },
  {
   "attachments": {},
   "cell_type": "markdown",
   "metadata": {},
   "source": [
    "# Introduction"
   ]
  },
  {
   "attachments": {},
   "cell_type": "markdown",
   "metadata": {},
   "source": [
    "This is notebook utilizes Py2neo to load a Neo4j Database to create a graphical representation of our data and their relationships to one another. Our data is contained in the respective files: nodes.tsv and edges.tsv. Nodes are entities of our dataset and the edges are the relationships that join entities together."
   ]
  },
  {
   "attachments": {},
   "cell_type": "markdown",
   "metadata": {},
   "source": [
    "# Loading the Neo4j"
   ]
  },
  {
   "attachments": {},
   "cell_type": "markdown",
   "metadata": {},
   "source": [
    "### Importing needed libraries\n",
    "\n",
    "- The `pandas` library will only be used to read our files. Our data is stored in tsv files, or tab seperated values.\n",
    "- The `py2neo` Driver is used to access the Neo4j database by using uri and user creditials. Futhermore, this driver is able to preform operations on the database.\n",
    "- The `json` library is used to convert our files from tsv to json, which will increase the rate of loading."
   ]
  },
  {
   "cell_type": "code",
   "execution_count": 27,
   "metadata": {},
   "outputs": [],
   "source": [
    "import pandas as pd\n",
    "from py2neo import Graph, Node, Relationship\n",
    "import json"
   ]
  },
  {
   "attachments": {},
   "cell_type": "markdown",
   "metadata": {},
   "source": [
    "### Connecting to Neo4j Instnace\n",
    "\n",
    "Connection creditials are used to connect this notebook to the Neo4j instance. This includes the URI, Username, and Password."
   ]
  },
  {
   "cell_type": "code",
   "execution_count": 21,
   "metadata": {},
   "outputs": [],
   "source": [
    "# Connect to the Neo4j instance\n",
    "graph = Graph(\"bolt://localhost:7690\", auth=(\"neo4j\", \"password\"))"
   ]
  },
  {
   "attachments": {},
   "cell_type": "markdown",
   "metadata": {},
   "source": [
    "### Reading the .tsv files\n",
    "\n",
    "Reads nodes.tsv and edges.tsv, then stores each in nodes and edges respectively. The separators for each dataset are tabs, `sep=\\t` is included in our call to the function `read_csv()` to accurately secion our data into their respective columns."
   ]
  },
  {
   "cell_type": "code",
   "execution_count": 22,
   "metadata": {},
   "outputs": [],
   "source": [
    "# Load the nodes and edges CSV files\n",
    "nodes = pd.read_csv('/Users/kennethguillont/Desktop/Hunter/fall2024/CSCI49375/hetionet/Data/nodes.tsv', sep='\\t')\n",
    "edges = pd.read_csv('/Users/kennethguillont/Desktop/Hunter/fall2024/CSCI49375/hetionet/Data/edges.tsv', sep='\\t')"
   ]
  },
  {
   "attachments": {},
   "cell_type": "markdown",
   "metadata": {},
   "source": [
    "### Convert .tsv to .json\n",
    "\n",
    "Converting to a .json file prior to loading the data appearing to improve the overall time it took to load the database."
   ]
  },
  {
   "cell_type": "code",
   "execution_count": 15,
   "metadata": {},
   "outputs": [
    {
     "name": "stdout",
     "output_type": "stream",
     "text": [
      "JSON files created: nodes.json and edges.json\n"
     ]
    }
   ],
   "source": [
    "# Convert nodes to JSON\n",
    "nodes_json = nodes.to_json(orient='records', lines=True)\n",
    "with open('nodes.json', 'w') as f:\n",
    "    f.write(nodes_json)\n",
    "\n",
    "# Convert edges to JSON\n",
    "edges_json = edges.to_json(orient='records', lines=True)\n",
    "with open('edges.json', 'w') as f:\n",
    "    f.write(edges_json)\n",
    "\n",
    "print(\"JSON files created: nodes.json and edges.json\")"
   ]
  },
  {
   "attachments": {},
   "cell_type": "markdown",
   "metadata": {},
   "source": [
    "### Loading Nodes and Edges\n",
    "\n",
    "In both cases, a for-loop is implemented to iterate through each file. An additional step is needed for loading the edges from a Json file because the IDs of both the sourse and target nodes must be stripped by their non-alphanumeric characters to obtain the `kind` and `id`.\n",
    "\n",
    "Additional cells were implemented to provide verification to ensure loading was successful."
   ]
  },
  {
   "cell_type": "code",
   "execution_count": null,
   "metadata": {},
   "outputs": [],
   "source": [
    "# Load nodes from JSON\n",
    "with open('nodes.json', 'r') as f:\n",
    "    for line in f:\n",
    "        node_data = json.loads(line)\n",
    "        node = Node(node_data['kind'], id=node_data['id'], name=node_data['name'], kind=node_data['kind'])\n",
    "        graph.merge(node, node_data['kind'], \"id\")"
   ]
  },
  {
   "cell_type": "code",
   "execution_count": null,
   "metadata": {},
   "outputs": [],
   "source": [
    "# Verify data, just to make sure it actually loaded\n",
    "nodesCreated = graph.run(\"MATCH (n) RETURN n LIMIT 10\").data()\n",
    "print(nodesCreated)"
   ]
  },
  {
   "cell_type": "code",
   "execution_count": null,
   "metadata": {},
   "outputs": [],
   "source": [
    "# Load edges from JSON\n",
    "with open('edges.json', 'r') as f:\n",
    "    for line in f:\n",
    "        edge_data = json.loads(line)\n",
    "\n",
    "        # Match source and target nodes based on their IDs\n",
    "        source_node = graph.nodes.match(kind=edge_data['source'].split(\"::\")[0], id=edge_data['source']).first()\n",
    "        target_node = graph.nodes.match(kind=edge_data['target'].split(\"::\")[0], id=edge_data['target']).first()\n",
    "\n",
    "        # Create the relationship if both nodes exist\n",
    "        if source_node and target_node:\n",
    "            relationship = Relationship(source_node, edge_data['metaedge'], target_node)\n",
    "            graph.create(relationship)\n",
    "\n",
    "print(\"Data imported successfully. Finally!\")\n"
   ]
  },
  {
   "cell_type": "code",
   "execution_count": 11,
   "metadata": {},
   "outputs": [
    {
     "name": "stdout",
     "output_type": "stream",
     "text": [
      "[{'a': Node('Anatomy', id='Anatomy::UBERON:0000002', kind='Anatomy', name='uterine cervix'), 'r': AeG(Node('Anatomy', id='Anatomy::UBERON:0000002', kind='Anatomy', name='uterine cervix'), Node('Gene', id='Gene::1000', kind='Gene', name='CDH2')), 'b': Node('Gene', id='Gene::1000', kind='Gene', name='CDH2')}, {'a': Node('Anatomy', id='Anatomy::UBERON:0000002', kind='Anatomy', name='uterine cervix'), 'r': AeG(Node('Anatomy', id='Anatomy::UBERON:0000002', kind='Anatomy', name='uterine cervix'), Node('Gene', id='Gene::10001', kind='Gene', name='MED6')), 'b': Node('Gene', id='Gene::10001', kind='Gene', name='MED6')}, {'a': Node('Anatomy', id='Anatomy::UBERON:0000002', kind='Anatomy', name='uterine cervix'), 'r': AeG(Node('Anatomy', id='Anatomy::UBERON:0000002', kind='Anatomy', name='uterine cervix'), Node('Gene', id='Gene::10004', kind='Gene', name='NAALADL1')), 'b': Node('Gene', id='Gene::10004', kind='Gene', name='NAALADL1')}, {'a': Node('Anatomy', id='Anatomy::UBERON:0000002', kind='Anatomy', name='uterine cervix'), 'r': AeG(Node('Anatomy', id='Anatomy::UBERON:0000002', kind='Anatomy', name='uterine cervix'), Node('Gene', id='Gene::10006', kind='Gene', name='ABI1')), 'b': Node('Gene', id='Gene::10006', kind='Gene', name='ABI1')}, {'a': Node('Anatomy', id='Anatomy::UBERON:0000002', kind='Anatomy', name='uterine cervix'), 'r': AeG(Node('Anatomy', id='Anatomy::UBERON:0000002', kind='Anatomy', name='uterine cervix'), Node('Gene', id='Gene::10007', kind='Gene', name='GNPDA1')), 'b': Node('Gene', id='Gene::10007', kind='Gene', name='GNPDA1')}, {'a': Node('Anatomy', id='Anatomy::UBERON:0000002', kind='Anatomy', name='uterine cervix'), 'r': AeG(Node('Anatomy', id='Anatomy::UBERON:0000002', kind='Anatomy', name='uterine cervix'), Node('Gene', id='Gene::1001', kind='Gene', name='CDH3')), 'b': Node('Gene', id='Gene::1001', kind='Gene', name='CDH3')}, {'a': Node('Anatomy', id='Anatomy::UBERON:0000002', kind='Anatomy', name='uterine cervix'), 'r': AeG(Node('Anatomy', id='Anatomy::UBERON:0000002', kind='Anatomy', name='uterine cervix'), Node('Gene', id='Gene::10010', kind='Gene', name='TANK')), 'b': Node('Gene', id='Gene::10010', kind='Gene', name='TANK')}, {'a': Node('Anatomy', id='Anatomy::UBERON:0000002', kind='Anatomy', name='uterine cervix'), 'r': AeG(Node('Anatomy', id='Anatomy::UBERON:0000002', kind='Anatomy', name='uterine cervix'), Node('Gene', id='Gene::100101267', kind='Gene', name='POM121C')), 'b': Node('Gene', id='Gene::100101267', kind='Gene', name='POM121C')}, {'a': Node('Anatomy', id='Anatomy::UBERON:0000002', kind='Anatomy', name='uterine cervix'), 'r': AeG(Node('Anatomy', id='Anatomy::UBERON:0000002', kind='Anatomy', name='uterine cervix'), Node('Gene', id='Gene::100101467', kind='Gene', name='ZSCAN30')), 'b': Node('Gene', id='Gene::100101467', kind='Gene', name='ZSCAN30')}, {'a': Node('Anatomy', id='Anatomy::UBERON:0000002', kind='Anatomy', name='uterine cervix'), 'r': AeG(Node('Anatomy', id='Anatomy::UBERON:0000002', kind='Anatomy', name='uterine cervix'), Node('Gene', id='Gene::10011', kind='Gene', name='SRA1')), 'b': Node('Gene', id='Gene::10011', kind='Gene', name='SRA1')}]\n"
     ]
    }
   ],
   "source": [
    "# Verify data, just to make sure it actually loaded\n",
    "relationshipsCreated = graph.run(\"MATCH (a)-[r]->(b) RETURN a, r, b LIMIT 10\").data()\n",
    "print(relationshipsCreated)"
   ]
  },
  {
   "attachments": {},
   "cell_type": "markdown",
   "metadata": {},
   "source": [
    "# Qeuries"
   ]
  },
  {
   "attachments": {},
   "cell_type": "markdown",
   "metadata": {},
   "source": [
    "**1. Given a disease id, what is its name, what are drug names that can treat or palliate this disease, what are gene names that cause this disease, and where this disease occurs? Obtain and output this information in a single query.**"
   ]
  },
  {
   "cell_type": "code",
   "execution_count": 26,
   "metadata": {},
   "outputs": [
    {
     "data": {
      "text/html": [
       "<table><tr><th>disease_name</th><th>drugs</th><th>gene_names</th><th>locations</th></tr><tr><td style=\"text-align:left\">lung cancer</td><td style=\"text-align:left\">[&#039;Gefitinib&#039;, &#039;Vinorelbine&#039;, &#039;Gemcitabine&#039;, &#039;Teniposide&#039;, &#039;Cisplatin&#039;, &#039;Erlotinib&#039;, &#039;Methotrexate&#039;, &#039;Vinblastine&#039;, &#039;Pemetrexed&#039;, &#039;Irinotecan&#039;, &#039;Etoposide&#039;, &#039;Doxorubicin&#039;, &#039;Topotecan&#039;, &#039;Paclitaxel&#039;, &#039;Docetaxel&#039;, &#039;Crizotinib&#039;, &#039;Fentanyl&#039;]</td><td style=\"text-align:left\">[&#039;COL4A3BP&#039;, &#039;CDH13&#039;, &#039;RBM7&#039;, &#039;CDKN1A&#039;, &#039;CDKN2A&#039;, &#039;NDRG1&#039;, &#039;ATP5H&#039;, &#039;SLC34A2&#039;, &#039;PDPN&#039;, &#039;ADCY1&#039;, &#039;CHL1&#039;, &#039;ERP29&#039;, &#039;CHGA&#039;, &#039;RASSF1&#039;, &#039;RASSF8&#039;, &#039;AZIN2&#039;, &#039;CHRNA3&#039;, &#039;CHRNA5&#039;, &#039;CHRNB4&#039;, &#039;CKB&#039;, &#039;TMEM132D&#039;, &#039;COL4A2&#039;, &#039;C20orf85&#039;, &#039;CREBBP&#039;, &#039;VTI1A&#039;, &#039;CSF3&#039;, &#039;CST6&#039;, &#039;XXYLT1&#039;, &#039;CYLD&#039;, &#039;CYP1A1&#039;, &#039;CYP2A6&#039;, &#039;CYP2A7&#039;, &#039;CYP2E1&#039;, &#039;DAPK1&#039;, &#039;AKR1C1&#039;, &#039;COL22A1&#039;, &#039;NQO1&#039;, &#039;DUSP3&#039;, &#039;EGF&#039;, &#039;EGFR&#039;, &#039;AHR&#039;, &#039;ELAVL2&#039;, &#039;LYRM9&#039;, &#039;ENO1&#039;, &#039;ENO2&#039;, &#039;EP300&#039;, &#039;EPHA7&#039;, &#039;ERBB2&#039;, &#039;ERBB3&#039;, &#039;ERCC1&#039;, &#039;ERCC2&#039;, &#039;AKT1&#039;, &#039;ALB&#039;, &#039;BPTF&#039;, &#039;TMED4&#039;, &#039;FGF9&#039;, &#039;ALDOA&#039;, &#039;FGFR1&#039;, &#039;FGR&#039;, &#039;FHIT&#039;, &#039;DIP2C&#039;, &#039;KDM1A&#039;, &#039;FOXM1&#039;, &#039;FOXO3&#039;, &#039;FLT1&#039;, &#039;SATB2&#039;, &#039;DICER1&#039;, &#039;PRAME&#039;, &#039;SMUG1&#039;, &#039;CORO1C&#039;, &#039;ALK&#039;, &#039;MTOR&#039;, &#039;PCSK9&#039;, &#039;QPCT&#039;, &#039;MXRA5&#039;, &#039;CNTNAP2&#039;, &#039;GIPR&#039;, &#039;GCLC&#039;, &#039;HPGDS&#039;, &#039;EML4&#039;, &#039;GNG11&#039;, &#039;SFN&#039;, &#039;DCBLD1&#039;, &#039;GRIK3&#039;, &#039;PYCARD&#039;, &#039;CD274&#039;, &#039;GRM8&#039;, &#039;GRP&#039;, &#039;GSTA1&#039;, &#039;GSTA2&#039;, &#039;GSTA3&#039;, &#039;GSTA4&#039;, &#039;GSTM1&#039;, &#039;GSTM2&#039;, &#039;GSTP1&#039;, &#039;GSTT1&#039;, &#039;MSH6&#039;, &#039;ANXA1&#039;, &#039;HSD17B10&#039;, &#039;ANXA5&#039;, &#039;HIF1A&#039;, &#039;HMGB2&#039;, &#039;HNRNPA2B1&#039;, &#039;APC&#039;, &#039;HRAS&#039;, &#039;HES1&#039;, &#039;HSPB1&#039;, &#039;BIRC5&#039;, &#039;APOA1&#039;, &#039;IGF1R&#039;, &#039;APP&#039;, &#039;IL2&#039;, &#039;FASLG&#039;, &#039;IL6&#039;, &#039;IL6R&#039;, &#039;CXCL8&#039;, &#039;IL10&#039;, &#039;IRF1&#039;, &#039;ITGB1&#039;, &#039;JUN&#039;, &#039;JUNB&#039;, &#039;AREG&#039;, &#039;KDR&#039;, &#039;KIF5B&#039;, &#039;KIT&#039;, &#039;KRAS&#039;, &#039;KRT7&#039;, &#039;KRT19&#039;, &#039;LGALS1&#039;, &#039;LMNA&#039;, &#039;EPCAM&#039;, &#039;MCL1&#039;, &#039;MDM2&#039;, &#039;MET&#039;, &#039;MIPEP&#039;, &#039;KMT2A&#039;, &#039;MMP1&#039;, &#039;MMP2&#039;, &#039;MMP9&#039;, &#039;MMP11&#039;, &#039;MSH3&#039;, &#039;MT3&#039;, &#039;MYC&#039;, &#039;MYCL&#039;, &#039;ATF3&#039;, &#039;NCAM1&#039;, &#039;NFE2L2&#039;, &#039;NNAT&#039;, &#039;NODAL&#039;, &#039;NOTCH3&#039;, &#039;NPPA&#039;, &#039;NRAS&#039;, &#039;OGG1&#039;, &#039;SLC22A18&#039;, &#039;OXTR&#039;, &#039;PRDX1&#039;, &#039;PGAM1&#039;, &#039;ABCB1&#039;, &#039;PIK3CA&#039;, &#039;PIK3CB&#039;, &#039;PIK3CD&#039;, &#039;PIK3CG&#039;, &#039;POMC&#039;, &#039;PRR13&#039;, &#039;UGT1A1&#039;, &#039;PPIA&#039;, &#039;AVP&#039;, &#039;PPP2R1B&#039;, &#039;KIF21A&#039;, &#039;CHFR&#039;, &#039;CNDP2&#039;, &#039;AXL&#039;, &#039;VIMP&#039;, &#039;MAPK3&#039;, &#039;MAP2K1&#039;, &#039;PLSCR4&#039;, &#039;AVEN&#039;, &#039;PTEN&#039;, &#039;PTGS2&#039;, &#039;PTHLH&#039;, &#039;LRFN2&#039;, &#039;ZDBF2&#039;, &#039;PXN&#039;, &#039;RAF1&#039;, &#039;RARB&#039;, &#039;RB1&#039;, &#039;CCND1&#039;, &#039;BCL2L1&#039;, &#039;RHEB&#039;, &#039;ROBO1&#039;, &#039;ROS1&#039;, &#039;RRAD&#039;, &#039;RRM1&#039;, &#039;SALL1&#039;, &#039;SDC4&#039;, &#039;SKI&#039;, &#039;SMARCA4&#039;, &#039;SOD2&#039;, &#039;SOX2&#039;, &#039;SRC&#039;, &#039;BRAF&#039;, &#039;STAT3&#039;, &#039;STK11&#039;, &#039;SYP&#039;, &#039;TERT&#039;, &#039;TF&#039;, &#039;TGFA&#039;, &#039;NKX2-1&#039;, &#039;TOP1&#039;, &#039;TP53&#039;, &#039;PHLDA2&#039;, &#039;TXK&#039;, &#039;TYMS&#039;, &#039;UCHL1&#039;, &#039;VEGFA&#039;, &#039;VEGFC&#039;, &#039;XPC&#039;, &#039;XRCC1&#039;, &#039;PLBD1&#039;, &#039;CLPTM1L&#039;, &#039;NCOA3&#039;, &#039;CAPG&#039;, &#039;CASP3&#039;, &#039;CASP8&#039;, &#039;RECK&#039;, &#039;CAT&#039;, &#039;KHSRP&#039;, &#039;RUNX1T1&#039;, &#039;TP63&#039;, &#039;DNAH11&#039;, &#039;ABCC3&#039;, &#039;PROM1&#039;, &#039;ST3GAL5&#039;, &#039;EIF2B4&#039;, &#039;EIF2B5&#039;, &#039;MTMR3&#039;, &#039;OSMR&#039;, &#039;CD4&#039;, &#039;CD8A&#039;, &#039;CD9&#039;, &#039;B4GALT5&#039;, &#039;SLIT2&#039;, &#039;CDYL&#039;, &#039;ABCG2&#039;, &#039;NAPSA&#039;, &#039;ADAMTS1&#039;, &#039;APOBEC3B&#039;, &#039;RIMS2&#039;, &#039;CD74&#039;, &#039;BCLAF1&#039;, &#039;KEAP1&#039;, &#039;CDH1&#039;]</td><td style=\"text-align:left\">[&#039;lymph node&#039;, &#039;epithelium&#039;, &#039;sternum&#039;, &#039;pleura&#039;, &#039;respiratory system&#039;, &#039;diaphragm&#039;, &#039;clavicle bone&#039;, &#039;intercostal muscle&#039;, &#039;subclavian artery&#039;, &#039;anterior vena cava&#039;, &#039;subclavian vein&#039;, &#039;azygos vein&#039;, &#039;brachial nerve plexus&#039;, &#039;phrenic nerve&#039;, &#039;mammary gland&#039;, &#039;pulmonary artery&#039;, &#039;pulmonary vein&#039;, &#039;bronchial artery&#039;, &#039;lung&#039;, &#039;umbilical vein&#039;, &#039;cardiac atrium&#039;, &#039;bronchus&#039;, &#039;rib&#039;, &#039;alveolus of lung&#039;, &#039;bone marrow&#039;, &#039;pericardium&#039;, &#039;trachea&#039;]</td></tr></table>"
      ],
      "text/plain": [
       " disease_name | drugs                                                                                                                                                                                                                                        | gene_names                                                                                                                                                                                                                                                                                                                                                                                                                                                                                                                                                                                                                                                                                                                                                                                                                                                                                                                                                                                                                                                                                                                                                                                                                                                                                                                                                                                                                                                                                                                                                                                                                                                                                                                                                                                                                                                                                                                                                                                                                                                                                                                                                                                                                                                                                         | locations                                                                                                                                                                                                                                                                                                                                                                                                                                                 \n",
       "--------------|----------------------------------------------------------------------------------------------------------------------------------------------------------------------------------------------------------------------------------------------|----------------------------------------------------------------------------------------------------------------------------------------------------------------------------------------------------------------------------------------------------------------------------------------------------------------------------------------------------------------------------------------------------------------------------------------------------------------------------------------------------------------------------------------------------------------------------------------------------------------------------------------------------------------------------------------------------------------------------------------------------------------------------------------------------------------------------------------------------------------------------------------------------------------------------------------------------------------------------------------------------------------------------------------------------------------------------------------------------------------------------------------------------------------------------------------------------------------------------------------------------------------------------------------------------------------------------------------------------------------------------------------------------------------------------------------------------------------------------------------------------------------------------------------------------------------------------------------------------------------------------------------------------------------------------------------------------------------------------------------------------------------------------------------------------------------------------------------------------------------------------------------------------------------------------------------------------------------------------------------------------------------------------------------------------------------------------------------------------------------------------------------------------------------------------------------------------------------------------------------------------------------------------------------------------|-----------------------------------------------------------------------------------------------------------------------------------------------------------------------------------------------------------------------------------------------------------------------------------------------------------------------------------------------------------------------------------------------------------------------------------------------------------\n",
       " lung cancer  | ['Gefitinib', 'Vinorelbine', 'Gemcitabine', 'Teniposide', 'Cisplatin', 'Erlotinib', 'Methotrexate', 'Vinblastine', 'Pemetrexed', 'Irinotecan', 'Etoposide', 'Doxorubicin', 'Topotecan', 'Paclitaxel', 'Docetaxel', 'Crizotinib', 'Fentanyl'] | ['COL4A3BP', 'CDH13', 'RBM7', 'CDKN1A', 'CDKN2A', 'NDRG1', 'ATP5H', 'SLC34A2', 'PDPN', 'ADCY1', 'CHL1', 'ERP29', 'CHGA', 'RASSF1', 'RASSF8', 'AZIN2', 'CHRNA3', 'CHRNA5', 'CHRNB4', 'CKB', 'TMEM132D', 'COL4A2', 'C20orf85', 'CREBBP', 'VTI1A', 'CSF3', 'CST6', 'XXYLT1', 'CYLD', 'CYP1A1', 'CYP2A6', 'CYP2A7', 'CYP2E1', 'DAPK1', 'AKR1C1', 'COL22A1', 'NQO1', 'DUSP3', 'EGF', 'EGFR', 'AHR', 'ELAVL2', 'LYRM9', 'ENO1', 'ENO2', 'EP300', 'EPHA7', 'ERBB2', 'ERBB3', 'ERCC1', 'ERCC2', 'AKT1', 'ALB', 'BPTF', 'TMED4', 'FGF9', 'ALDOA', 'FGFR1', 'FGR', 'FHIT', 'DIP2C', 'KDM1A', 'FOXM1', 'FOXO3', 'FLT1', 'SATB2', 'DICER1', 'PRAME', 'SMUG1', 'CORO1C', 'ALK', 'MTOR', 'PCSK9', 'QPCT', 'MXRA5', 'CNTNAP2', 'GIPR', 'GCLC', 'HPGDS', 'EML4', 'GNG11', 'SFN', 'DCBLD1', 'GRIK3', 'PYCARD', 'CD274', 'GRM8', 'GRP', 'GSTA1', 'GSTA2', 'GSTA3', 'GSTA4', 'GSTM1', 'GSTM2', 'GSTP1', 'GSTT1', 'MSH6', 'ANXA1', 'HSD17B10', 'ANXA5', 'HIF1A', 'HMGB2', 'HNRNPA2B1', 'APC', 'HRAS', 'HES1', 'HSPB1', 'BIRC5', 'APOA1', 'IGF1R', 'APP', 'IL2', 'FASLG', 'IL6', 'IL6R', 'CXCL8', 'IL10', 'IRF1', 'ITGB1', 'JUN', 'JUNB', 'AREG', 'KDR', 'KIF5B', 'KIT', 'KRAS', 'KRT7', 'KRT19', 'LGALS1', 'LMNA', 'EPCAM', 'MCL1', 'MDM2', 'MET', 'MIPEP', 'KMT2A', 'MMP1', 'MMP2', 'MMP9', 'MMP11', 'MSH3', 'MT3', 'MYC', 'MYCL', 'ATF3', 'NCAM1', 'NFE2L2', 'NNAT', 'NODAL', 'NOTCH3', 'NPPA', 'NRAS', 'OGG1', 'SLC22A18', 'OXTR', 'PRDX1', 'PGAM1', 'ABCB1', 'PIK3CA', 'PIK3CB', 'PIK3CD', 'PIK3CG', 'POMC', 'PRR13', 'UGT1A1', 'PPIA', 'AVP', 'PPP2R1B', 'KIF21A', 'CHFR', 'CNDP2', 'AXL', 'VIMP', 'MAPK3', 'MAP2K1', 'PLSCR4', 'AVEN', 'PTEN', 'PTGS2', 'PTHLH', 'LRFN2', 'ZDBF2', 'PXN', 'RAF1', 'RARB', 'RB1', 'CCND1', 'BCL2L1', 'RHEB', 'ROBO1', 'ROS1', 'RRAD', 'RRM1', 'SALL1', 'SDC4', 'SKI', 'SMARCA4', 'SOD2', 'SOX2', 'SRC', 'BRAF', 'STAT3', 'STK11', 'SYP', 'TERT', 'TF', 'TGFA', 'NKX2-1', 'TOP1', 'TP53', 'PHLDA2', 'TXK', 'TYMS', 'UCHL1', 'VEGFA', 'VEGFC', 'XPC', 'XRCC1', 'PLBD1', 'CLPTM1L', 'NCOA3', 'CAPG', 'CASP3', 'CASP8', 'RECK', 'CAT', 'KHSRP', 'RUNX1T1', 'TP63', 'DNAH11', 'ABCC3', 'PROM1', 'ST3GAL5', 'EIF2B4', 'EIF2B5', 'MTMR3', 'OSMR', 'CD4', 'CD8A', 'CD9', 'B4GALT5', 'SLIT2', 'CDYL', 'ABCG2', 'NAPSA', 'ADAMTS1', 'APOBEC3B', 'RIMS2', 'CD74', 'BCLAF1', 'KEAP1', 'CDH1'] | ['lymph node', 'epithelium', 'sternum', 'pleura', 'respiratory system', 'diaphragm', 'clavicle bone', 'intercostal muscle', 'subclavian artery', 'anterior vena cava', 'subclavian vein', 'azygos vein', 'brachial nerve plexus', 'phrenic nerve', 'mammary gland', 'pulmonary artery', 'pulmonary vein', 'bronchial artery', 'lung', 'umbilical vein', 'cardiac atrium', 'bronchus', 'rib', 'alveolus of lung', 'bone marrow', 'pericardium', 'trachea'] "
      ]
     },
     "execution_count": 26,
     "metadata": {},
     "output_type": "execute_result"
    }
   ],
   "source": [
    "query1 = f\"\"\"\n",
    "    MATCH (d:Disease {{id: '{'Disease::DOID:1324'}'}})\n",
    "    MATCH (d)-[:DaG]->(g:Gene)  // Disease associates with Gene\n",
    "    MATCH (a:Anatomy)<-[:DlA]-(d)  // Anatomy localizes Disease\n",
    "    MATCH (c:Compound)-[:CtD|CpD]->(d)  //treat or palliate this disease\n",
    "    RETURN d.name AS disease_name, \n",
    "           COLLECT(DISTINCT c.name) AS drugs, \n",
    "           COLLECT(DISTINCT g.name) AS gene_names, \n",
    "           COLLECT(DISTINCT a.name) AS locations\n",
    "    \"\"\"\n",
    "\n",
    "graph.run(query1)"
   ]
  },
  {
   "attachments": {},
   "cell_type": "markdown",
   "metadata": {},
   "source": [
    "For graphical representation, I used this cypher Query:\n",
    "\n",
    "MATCH (d:Disease {id: 'Disease::DOID:10763'}) <br>\n",
    "MATCH (d)-[:DlA]->(a:Anatomy) <br>\n",
    "MATCH (a)-[:AuG]->(g:Gene) <br>\n",
    "MATCH (c:Compound)-[:CdG]->(g) <br>\n",
    "WHERE NOT (c)-[:CtD]->(d) AND NOT (c)-[:CpD]->(d) <br>\n",
    "RETURN d, a, g, c"
   ]
  },
  {
   "attachments": {},
   "cell_type": "markdown",
   "metadata": {},
   "source": [
    "![Query 1](./Images/query1.png)\n"
   ]
  },
  {
   "attachments": {},
   "cell_type": "markdown",
   "metadata": {},
   "source": [
    "**2. We assume that a compound can treat a disease if the compound up-regulates/down-regulates a gene, but the location down-regulates/up-regulates the gene in an opposite direction where the disease occurs. Find all compounds that can treat a new disease (i.e. the missing edges between compound and disease excluding existing drugs). Obtain and output all drugs in a single query.**"
   ]
  },
  {
   "cell_type": "code",
   "execution_count": 29,
   "metadata": {},
   "outputs": [
    {
     "data": {
      "text/html": [
       "<table><tr><th>new_treatment_compounds</th></tr><tr><td style=\"text-align:left\">[&#039;Afatinib&#039;, &#039;Betamethasone&#039;, &#039;Dexamethasone&#039;, &#039;Trametinib&#039;, &#039;Dabrafenib&#039;, &#039;Cyclosporine&#039;, &#039;Menadione&#039;, &#039;Reserpine&#039;, &#039;Diflorasone&#039;, &#039;Mitomycin&#039;, &#039;Floxuridine&#039;, &#039;Levonorgestrel&#039;, &#039;Epirubicin&#039;, &#039;Raloxifene&#039;, &#039;Ivermectin&#039;, &#039;Mycophenolate mofetil&#039;, &#039;Daunorubicin&#039;, &#039;Tacrolimus&#039;, &#039;Fulvestrant&#039;, &#039;Cytarabine&#039;, &#039;Mycophenolic acid&#039;, &#039;Cerulenin&#039;, &#039;Quinacrine&#039;, &#039;Idarubicin&#039;, &#039;Mitoxantrone&#039;, &#039;Dasatinib&#039;, &#039;Vorinostat&#039;, &#039;Niclosamide&#039;, &#039;Nonoxynol-9&#039;, &#039;Triclosan&#039;, &#039;Pitavastatin&#039;, &#039;Vincristine&#039;, &#039;Pentamidine&#039;, &#039;Podofilox&#039;, &#039;Homoharringtonine&#039;, &#039;Ruxolitinib&#039;, &#039;Bisacodyl&#039;, &#039;Ouabain&#039;, &#039;Terbinafine&#039;, &#039;Varenicline&#039;, &#039;Flunisolide&#039;, &#039;Amcinonide&#039;, &#039;Fluorometholone&#039;, &#039;Desoximetasone&#039;, &#039;Fluticasone Propionate&#039;, &#039;Triamcinolone&#039;, &#039;Hydrocortisone&#039;, &#039;Estradiol&#039;, &#039;Donepezil&#039;, &#039;Flurandrenolide&#039;, &#039;Methylprednisolone&#039;, &#039;Clobetasol propionate&#039;, &#039;Thalidomide&#039;, &#039;Fluocinonide&#039;, &#039;Budesonide&#039;, &#039;Iopanoic acid&#039;, &#039;Sirolimus&#039;, &#039;Dactinomycin&#039;, &#039;Temsirolimus&#039;, &#039;Treprostinil&#039;, &#039;Nizatidine&#039;, &#039;Biperiden&#039;, &#039;Ritodrine&#039;, &#039;Vitamin A&#039;, &#039;Esmolol&#039;, &#039;Bortezomib&#039;, &#039;Cladribine&#039;, &#039;Cefmetazole&#039;, &#039;Trimethadione&#039;, &#039;Doxylamine&#039;, &#039;Alitretinoin&#039;, &#039;Alendronate&#039;, &#039;Clofarabine&#039;, &#039;Riluzole&#039;, &#039;Tretinoin&#039;, &#039;Suprofen&#039;, &#039;Didanosine&#039;, &#039;Ethacrynic acid&#039;, &#039;Spectinomycin&#039;, &#039;Azacitidine&#039;, &#039;Isotretinoin&#039;, &#039;Levobunolol&#039;, &#039;Nilotinib&#039;, &#039;Xylometazoline&#039;, &#039;Paroxetine&#039;, &#039;Vemurafenib&#039;, &#039;Benazepril&#039;, &#039;Clonidine&#039;, &#039;Fenoldopam&#039;, &#039;Levorphanol&#039;, &#039;Misoprostol&#039;, &#039;Bromfenac&#039;, &#039;Glipizide&#039;, &#039;Diclofenamide&#039;, &#039;Procaterol&#039;, &#039;Imipenem&#039;, &#039;Estriol&#039;, &#039;Ibudilast&#039;, &#039;Lovastatin&#039;, &#039;Simvastatin&#039;, &#039;Tamoxifen&#039;, &#039;Thioridazine&#039;, &#039;Perhexiline&#039;, &#039;Bosutinib&#039;, &#039;Topiramate&#039;, &#039;Sulpiride&#039;, &#039;Ampicillin&#039;, &#039;Epinephrine&#039;, &#039;Tubocurarine&#039;, &#039;Cyproterone acetate&#039;, &#039;Betahistine&#039;, &#039;Norethindrone&#039;, &#039;Adapalene&#039;, &#039;Clopidogrel&#039;, &#039;Lansoprazole&#039;, &#039;Lenalidomide&#039;, &#039;Mitotane&#039;, &#039;Sumatriptan&#039;, &#039;Nicergoline&#039;, &#039;Carbinoxamine&#039;, &#039;Pindolol&#039;, &#039;Glyburide&#039;, &#039;Probenecid&#039;, &#039;Levofloxacin&#039;, &#039;Ofloxacin&#039;, &#039;Flecainide&#039;, &#039;Sitagliptin&#039;, &#039;Ursodeoxycholic acid&#039;, &#039;Nitrazepam&#039;, &#039;Thiotepa&#039;, &#039;Rivaroxaban&#039;, &#039;Pazopanib&#039;, &#039;Chenodeoxycholic acid&#039;, &#039;Albendazole&#039;, &#039;Mebendazole&#039;, &#039;Eplerenone&#039;, &#039;Colchicine&#039;, &#039;Everolimus&#039;, &#039;Molindone&#039;, &#039;Flubendazole&#039;, &#039;Oxprenolol&#039;, &#039;Sorafenib&#039;, &#039;Hexachlorophene&#039;, &#039;Orciprenaline&#039;, &#039;Fenoterol&#039;, &#039;Vindesine&#039;, &#039;Digoxin&#039;, &#039;Busulfan&#039;, &#039;Moclobemide&#039;, &#039;Sunitinib&#039;, &#039;Digitoxin&#039;, &#039;Danazol&#039;, &#039;Testosterone Propionate&#039;, &#039;Ponatinib&#039;, &#039;Torasemide&#039;, &#039;Isradipine&#039;, &#039;Fluocinolone Acetonide&#039;, &#039;Disulfiram&#039;, &#039;Ethynodiol&#039;, &#039;Ciclopirox&#039;, &#039;Clenbuterol&#039;, &#039;Candesartan&#039;, &#039;Metrizamide&#039;, &#039;Benzylpenicillin&#039;, &#039;Estradiol valerate/Dienogest&#039;, &#039;Repaglinide&#039;, &#039;Domperidone&#039;, &#039;Ceforanide&#039;, &#039;Thiothixene&#039;, &#039;Anagrelide&#039;, &#039;Tenofovir&#039;, &#039;Pentobarbital&#039;, &#039;Remoxipride&#039;, &#039;Amodiaquine&#039;, &#039;Cefixime&#039;, &#039;Hydroflumethiazide&#039;, &#039;Naproxen&#039;, &#039;Trifluoperazine&#039;, &#039;Suramin&#039;, &#039;Fluspirilene&#039;, &#039;Testosterone&#039;, &#039;Amlodipine&#039;, &#039;Promazine&#039;, &#039;Nortriptyline&#039;, &#039;Fluvastatin&#039;, &#039;Amiodarone&#039;, &#039;Dihomo-gamma-linolenic acid&#039;, &#039;Carbidopa&#039;, &#039;Atomoxetine&#039;, &#039;Ropivacaine&#039;, &#039;Amitriptyline&#039;, &#039;Ethopropazine&#039;, &#039;Fluoxetine&#039;, &#039;Methoxsalen&#039;, &#039;Aciclovir&#039;, &#039;Maprotiline&#039;, &#039;Azathioprine&#039;, &#039;Diazoxide&#039;, &#039;Alpha-Linolenic Acid&#039;, &#039;Cefotiam&#039;, &#039;Acepromazine&#039;, &#039;Isoxsuprine&#039;, &#039;Pyrimethamine&#039;, &#039;Procyclidine&#039;, &#039;Carbachol&#039;, &#039;Chloramphenicol&#039;, &#039;Cefalotin&#039;, &#039;Aminocaproic Acid&#039;, &#039;Toremifene&#039;, &#039;Roxithromycin&#039;, &#039;Ribavirin&#039;, &#039;Chlorhexidine&#039;, &#039;Clomifene&#039;, &#039;Auranofin&#039;, &#039;Cromoglicic acid&#039;, &#039;Etidronic acid&#039;, &#039;Pilocarpine&#039;, &#039;Sertraline&#039;, &#039;Papaverine&#039;, &#039;Nifedipine&#039;, &#039;Sparfloxacin&#039;, &#039;Chlorprothixene&#039;, &#039;Lapatinib&#039;, &#039;Sulfadoxine&#039;, &#039;Tiaprofenic acid&#039;, &#039;Hexetidine&#039;, &#039;Fursultiamine&#039;, &#039;Alprazolam&#039;, &#039;Chloroxine&#039;, &#039;Calcipotriol&#039;, &#039;Citalopram&#039;, &#039;Mesalazine&#039;, &#039;Chlorambucil&#039;, &#039;Ipratropium bromide&#039;, &#039;Cimetidine&#039;, &#039;Stavudine&#039;, &#039;Pralidoxime&#039;, &#039;Ethotoin&#039;, &#039;Bumetanide&#039;, &#039;Balsalazide&#039;, &#039;Escitalopram&#039;, &#039;Clarithromycin&#039;, &#039;Quinethazone&#039;, &#039;Cyproheptadine&#039;, &#039;Metaxalone&#039;, &#039;Olopatadine&#039;, &#039;Dexmedetomidine&#039;, &#039;Etodolac&#039;, &#039;Aminosalicylic Acid&#039;, &#039;Theophylline&#039;, &#039;Aminohippurate&#039;, &#039;Streptozocin&#039;, &#039;Bacitracin&#039;, &#039;Ondansetron&#039;, &#039;Methantheline&#039;, &#039;Gabapentin&#039;, &#039;Trichlormethiazide&#039;, &#039;Nitrendipine&#039;, &#039;Gliclazide&#039;, &#039;Diphenylpyraline&#039;, &#039;Cyclizine&#039;, &#039;Paromomycin&#039;, &#039;Hydroxychloroquine&#039;, &#039;Conjugated Estrogens&#039;, &#039;Dipivefrin&#039;, &#039;Droperidol&#039;, &#039;Gemfibrozil&#039;, &#039;Estropipate&#039;, &#039;Raltegravir&#039;, &#039;Flurbiprofen&#039;, &#039;Dienestrol&#039;, &#039;Indinavir&#039;, &#039;Cabergoline&#039;, &#039;Zolmitriptan&#039;, &#039;Cyclophosphamide&#039;, &#039;Carbamazepine&#039;, &#039;Phenelzine&#039;, &#039;Temozolomide&#039;, &#039;Alprenolol&#039;, &#039;Methyldopa&#039;, &#039;Nefazodone&#039;, &#039;Captopril&#039;, &#039;Thioproperazine&#039;, &#039;Diphenidol&#039;, &#039;Fluconazole&#039;, &#039;Orphenadrine&#039;, &#039;Nisoldipine&#039;, &#039;Nitazoxanide&#039;, &#039;Granisetron&#039;, &#039;Zalcitabine&#039;, &#039;Quetiapine&#039;, &#039;Pimozide&#039;, &#039;Deferiprone&#039;, &#039;Phenytoin&#039;, &#039;Flucloxacillin&#039;, &#039;Fluorouracil&#039;, &#039;Enalapril&#039;, &#039;Carprofen&#039;, &#039;Melatonin&#039;, &#039;Medrysone&#039;, &#039;Beclomethasone&#039;, &#039;Triprolidine&#039;, &#039;Doxapram&#039;, &#039;Naltrexone&#039;, &#039;Perphenazine&#039;, &#039;Aminolevulinic acid&#039;, &#039;Prednisolone&#039;, &#039;Salmeterol&#039;, &#039;Exemestane&#039;, &#039;Rosuvastatin&#039;, &#039;Flucytosine&#039;, &#039;Methyltestosterone&#039;, &#039;Triflupromazine&#039;, &#039;Chlorpromazine&#039;, &#039;Atorvastatin&#039;, &#039;L-Glutamine&#039;, &#039;Methylergometrine&#039;, &#039;Cinchocaine&#039;, &#039;Ezetimibe&#039;, &#039;Glucosamine&#039;, &#039;Tetrabenazine&#039;, &#039;Iloperidone&#039;, &#039;Fluvoxamine&#039;, &#039;Tranexamic Acid&#039;, &#039;Phenylpropanolamine&#039;, &#039;Cephalexin&#039;, &#039;Efavirenz&#039;, &#039;Loperamide&#039;, &#039;Dexfenfluramine&#039;, &#039;Decitabine&#039;, &#039;Yohimbine&#039;, &#039;Trioxsalen&#039;, &#039;Raltitrexed&#039;, &#039;Cinalukast&#039;, &#039;Zileuton&#039;, &#039;Imatinib&#039;, &#039;Loxapine&#039;, &#039;Pentoxifylline&#039;, &#039;Metformin&#039;, &#039;Orlistat&#039;, &#039;Penciclovir&#039;, &#039;Omeprazole&#039;, &#039;Esomeprazole&#039;, &#039;Ketoprofen&#039;, &#039;Rabeprazole&#039;, &#039;Roxatidine acetate&#039;, &#039;Sulfathiazole&#039;, &#039;Calcitriol&#039;, &#039;Linezolid&#039;, &#039;Irbesartan&#039;, &#039;Betazole&#039;, &#039;Ethionamide&#039;, &#039;Prednisone&#039;, &#039;Finasteride&#039;, &#039;Bromhexine&#039;, &#039;Ropinirole&#039;, &#039;Carbimazole&#039;, &#039;Darifenacin&#039;, &#039;Propylthiouracil&#039;, &#039;Sulfamethizole&#039;, &#039;Mecamylamine&#039;, &#039;Dirithromycin&#039;, &#039;Rivastigmine&#039;, &#039;Levetiracetam&#039;, &#039;Niacin&#039;, &#039;Famciclovir&#039;, &#039;Rifampicin&#039;, &#039;Olanzapine&#039;, &#039;Penicillin V&#039;, &#039;Gatifloxacin&#039;, &#039;Erythromycin&#039;, &#039;Oxiconazole&#039;, &#039;Acetaminophen&#039;, &#039;Progesterone&#039;, &#039;Sulfacetamide&#039;, &#039;Oxymetazoline&#039;, &#039;Pheniramine&#039;, &#039;Oxandrolone&#039;, &#039;Indomethacin&#039;, &#039;Oxcarbazepine&#039;, &#039;Amantadine&#039;, &#039;Cefaclor&#039;, &#039;Proparacaine&#039;, &#039;Novobiocin&#039;, &#039;Sildenafil&#039;, &#039;Tetrahydrobiopterin&#039;, &#039;Icosapent&#039;, &#039;Nicotine&#039;, &#039;Haloprogin&#039;, &#039;Ganciclovir&#039;, &#039;L-DOPA&#039;, &#039;Alizapride&#039;, &#039;Etoricoxib&#039;, &#039;Latamoxef&#039;, &#039;Tamibarotene&#039;, &#039;Stanozolol&#039;, &#039;Iopamidol&#039;, &#039;Hydrochlorothiazide&#039;, &#039;Chlormezanone&#039;, &#039;Enoxacin&#039;, &#039;Cinnarizine&#039;, &#039;Diclofenac&#039;, &#039;Lamivudine&#039;, &#039;Phenylbutazone&#039;, &#039;Sulfapyridine&#039;, &#039;Emedastine&#039;, &#039;Cefuroxime&#039;, &#039;Bretylium&#039;, &#039;Acenocoumarol&#039;, &#039;Mepenzolate&#039;, &#039;Calcidiol&#039;, &#039;Cisapride&#039;, &#039;Pivmecillinam&#039;, &#039;Mifepristone&#039;, &#039;Bromocriptine&#039;, &#039;Tizanidine&#039;, &#039;Azelastine&#039;, &#039;Diosmin&#039;, &#039;Vitamin E&#039;, &#039;Rosiglitazone&#039;, &#039;Dapsone&#039;, &#039;Ketorolac&#039;, &#039;Estrone&#039;, &#039;Thiabendazole&#039;, &#039;Meclofenamic acid&#039;, &#039;Praziquantel&#039;, &#039;Nadolol&#039;, &#039;Alfacalcidol&#039;, &#039;Dihydroergotamine&#039;, &#039;Propantheline&#039;, &#039;Biotin&#039;, &#039;Dinoprostone&#039;, &#039;Pravastatin&#039;, &#039;Nabumetone&#039;, &#039;Tolbutamide&#039;, &#039;Formoterol&#039;, &#039;Arformoterol&#039;, &#039;Monobenzone&#039;, &#039;Nitrofural&#039;, &#039;Tramadol&#039;, &#039;Leflunomide&#039;, &#039;Chlorphenamine&#039;, &#039;Ciprofloxacin&#039;, &#039;Tinidazole&#039;, &#039;Asenapine&#039;, &#039;Flutamide&#039;, &#039;Altretamine&#039;, &#039;Ranitidine&#039;, &#039;Methazolamide&#039;, &#039;Eprosartan&#039;, &#039;Spironolactone&#039;, &#039;Medroxyprogesterone Acetate&#039;, &#039;Norgestimate&#039;, &#039;Bupropion&#039;, &#039;Adenosine monophosphate&#039;, &#039;Metoprolol&#039;, &#039;Cilostazol&#039;, &#039;Fenbufen&#039;, &#039;Naphazoline&#039;, &#039;Protriptyline&#039;, &#039;Chloroquine&#039;, &#039;Azithromycin&#039;, &#039;Levothyroxine&#039;, &#039;Dextrothyroxine&#039;, &#039;Propofol&#039;, &#039;Bambuterol&#039;, &#039;Cefepime&#039;, &#039;Maraviroc&#039;, &#039;Lamotrigine&#039;, &#039;Procaine&#039;, &#039;Pioglitazone&#039;, &#039;Liotrix&#039;, &#039;Vardenafil&#039;, &#039;Alverine&#039;, &#039;Etofenamate&#039;, &#039;Tocainide&#039;, &#039;Acarbose&#039;, &#039;Etomidate&#039;, &#039;Tiagabine&#039;, &#039;Milnacipran&#039;, &#039;Levomilnacipran&#039;, &#039;Entacapone&#039;, &#039;Zidovudine&#039;, &#039;Doxepin&#039;, &#039;Flumazenil&#039;, &#039;Isometheptene&#039;, &#039;Sulfasalazine&#039;, &#039;Econazole&#039;, &#039;Phentermine&#039;, &#039;Diflunisal&#039;, &#039;Isoprenaline&#039;, &#039;Equilin&#039;, &#039;Timolol&#039;, &#039;Pyrazinamide&#039;, &#039;Midodrine&#039;, &#039;Chlorthalidone&#039;, &#039;Dexbrompheniramine&#039;, &#039;Loratadine&#039;, &#039;Midazolam&#039;, &#039;Brompheniramine&#039;, &#039;Clofazimine&#039;, &#039;Bicalutamide&#039;, &#039;Carvedilol&#039;, &#039;Mestranol&#039;, &#039;Tolazamide&#039;, &#039;Rimexolone&#039;, &#039;Amoxicillin&#039;, &#039;Prednicarbate&#039;, &#039;Valsartan&#039;, &#039;Dofetilide&#039;, &#039;Methimazole&#039;, &#039;Nalbuphine&#039;, &#039;Fexofenadine&#039;, &#039;Ethinyl Estradiol&#039;, &#039;Memantine&#039;, &#039;Flavoxate&#039;, &#039;Dinoprost Tromethamine&#039;, &#039;Kanamycin&#039;, &#039;Pancuronium&#039;, &#039;Theobromine&#039;, &#039;Ethosuximide&#039;, &#039;Famotidine&#039;, &#039;Reboxetine&#039;, &#039;Metaraminol&#039;, &#039;Anastrozole&#039;, &#039;Plerixafor&#039;, &#039;Clemastine&#039;, &#039;Diltiazem&#039;, &#039;Hyoscyamine&#039;, &#039;Atropine&#039;, &#039;Dextropropoxyphene&#039;, &#039;Sibutramine&#039;, &#039;Sulfinpyrazone&#039;, &#039;Procarbazine&#039;, &#039;Mephentermine&#039;, &#039;Bacampicillin&#039;, &#039;Sertindole&#039;, &#039;Piperacillin&#039;, &#039;Mefloquine&#039;, &#039;Quinine&#039;, &#039;Lisinopril&#039;, &#039;Quinidine&#039;, &#039;Hexylcaine&#039;, &#039;Trifluridine&#039;, &#039;Tolnaftate&#039;, &#039;Metixene&#039;, &#039;Potassium Canrenoate&#039;, &#039;Moricizine&#039;, &#039;Primidone&#039;, &#039;Mafenide&#039;, &#039;Cycloserine&#039;, &#039;Bendroflumethiazide&#039;, &#039;Phensuximide&#039;, &#039;Norfloxacin&#039;, &#039;Ranolazine&#039;, &#039;Astemizole&#039;, &#039;Acetylsalicylic acid&#039;, &#039;Miconazole&#039;, &#039;Sulfadimethoxine&#039;, &#039;Cloperastine&#039;, &#039;Mefenamic acid&#039;, &#039;Idoxuridine&#039;, &#039;Ritonavir&#039;, &#039;Naloxone&#039;, &#039;Phenazopyridine&#039;, &#039;Articaine&#039;, &#039;Triamterene&#039;, &#039;Mesoridazine&#039;, &#039;Desipramine&#039;, &#039;Propafenone&#039;, &#039;Iobenguane&#039;, &#039;Glycopyrrolate&#039;, &#039;Alimemazine&#039;, &#039;Ticarcillin&#039;, &#039;Pantoprazole&#039;, &#039;Nicardipine&#039;, &#039;Ergonovine&#039;, &#039;Halofantrine&#039;, &#039;Propranolol&#039;, &#039;Aminoglutethimide&#039;, &#039;Bosentan&#039;, &#039;Primaquine&#039;, &#039;Modafinil&#039;, &#039;Zonisamide&#039;, &#039;Vidarabine&#039;, &#039;Mirtazapine&#039;, &#039;Adenosine&#039;, &#039;Phenoxybenzamine&#039;, &#039;Acetylcysteine&#039;, &#039;Ketotifen&#039;, &#039;Butoconazole&#039;, &#039;Nelfinavir&#039;, &#039;Dorzolamide&#039;, &#039;Dexrazoxane&#039;, &#039;Clodronate&#039;, &#039;Sulfamethoxazole&#039;, &#039;Aripiprazole&#039;, &#039;Ketoconazole&#039;, &#039;Duloxetine&#039;, &#039;Rimonabant&#039;, &#039;Sertaconazole&#039;, &#039;Crotamiton&#039;, &#039;Clozapine&#039;, &#039;Buspirone&#039;, &#039;Perindopril&#039;, &#039;Tolazoline&#039;, &#039;Iodixanol&#039;, &#039;Alfuzosin&#039;, &#039;Ifenprodil&#039;, &#039;Cetirizine&#039;, &#039;Guanabenz&#039;, &#039;Dopamine&#039;, &#039;Benzatropine&#039;, &#039;Haloperidol&#039;, &#039;Rifabutin&#039;, &#039;Phentolamine&#039;, &#039;Mepivacaine&#039;, &#039;Methotrimeprazine&#039;, &#039;Oxybenzone&#039;, &#039;Mianserin&#039;, &#039;Diloxanide&#039;, &#039;Chloropyramine&#039;, &#039;Tolcapone&#039;, &#039;Iodipamide&#039;, &#039;Nalidixic Acid&#039;, &#039;Niflumic Acid&#039;]</td></tr></table>"
      ],
      "text/plain": [
       " new_treatment_compounds                                                                                                                                                                                                                                                                                                                                                                                                                                                                                                                                                                                                                                                                                                                                                                                                                                                                                                                                                                                                                                                                                                                                                                                                                                                                                                                                                                                                                                                                                                                                                                                                                                                                                                                                                                                                                                                                                                                                                                                                                                                                                                                                                                                                                                                                                                                                                                                                                                                                                                                                                                                                                                                                                                                                                                                                                                                                                                                                                                                                                                                                                                                                                                                                                                                                                                                                                                                                                                                                                                                                                                                                                                                                                                                                                                                                                                                                                                                                                                                                                                                                                                                                                                                                                                                                                                                                                                                                                                                                                                                                                                                                                                                                                                                                                                                                                                                                                                                                                                                                                                                                                                                                                                                                                                                                                                                                                                                                                                                                                                                                                                                                                                                                                                                                                                                                                                                                                                                                                                                                                                                                                                                                                                                                                                                                                                                                                                                                                                                                                                                                                                                                                                                                                                                                                                                                                                                                                                                                                                                                                                                                                                                                                                                                                                                                                                                                                                                                                                                                                                                                                                                                                                                                                                                                                                                                                                                                                                                                                                                                                                                                                                                                                                                                                                                                                                                                                                                                                                                                                                                                                                                                                                                                                                                                                                                                                                                                                                                                                                                                                                                                                                                                                                                                                                                                                                                                                                                                                                                                                                                                                                                                                                                                                                                                                                                                                                                                                                                                            \n",
       "--------------------------------------------------------------------------------------------------------------------------------------------------------------------------------------------------------------------------------------------------------------------------------------------------------------------------------------------------------------------------------------------------------------------------------------------------------------------------------------------------------------------------------------------------------------------------------------------------------------------------------------------------------------------------------------------------------------------------------------------------------------------------------------------------------------------------------------------------------------------------------------------------------------------------------------------------------------------------------------------------------------------------------------------------------------------------------------------------------------------------------------------------------------------------------------------------------------------------------------------------------------------------------------------------------------------------------------------------------------------------------------------------------------------------------------------------------------------------------------------------------------------------------------------------------------------------------------------------------------------------------------------------------------------------------------------------------------------------------------------------------------------------------------------------------------------------------------------------------------------------------------------------------------------------------------------------------------------------------------------------------------------------------------------------------------------------------------------------------------------------------------------------------------------------------------------------------------------------------------------------------------------------------------------------------------------------------------------------------------------------------------------------------------------------------------------------------------------------------------------------------------------------------------------------------------------------------------------------------------------------------------------------------------------------------------------------------------------------------------------------------------------------------------------------------------------------------------------------------------------------------------------------------------------------------------------------------------------------------------------------------------------------------------------------------------------------------------------------------------------------------------------------------------------------------------------------------------------------------------------------------------------------------------------------------------------------------------------------------------------------------------------------------------------------------------------------------------------------------------------------------------------------------------------------------------------------------------------------------------------------------------------------------------------------------------------------------------------------------------------------------------------------------------------------------------------------------------------------------------------------------------------------------------------------------------------------------------------------------------------------------------------------------------------------------------------------------------------------------------------------------------------------------------------------------------------------------------------------------------------------------------------------------------------------------------------------------------------------------------------------------------------------------------------------------------------------------------------------------------------------------------------------------------------------------------------------------------------------------------------------------------------------------------------------------------------------------------------------------------------------------------------------------------------------------------------------------------------------------------------------------------------------------------------------------------------------------------------------------------------------------------------------------------------------------------------------------------------------------------------------------------------------------------------------------------------------------------------------------------------------------------------------------------------------------------------------------------------------------------------------------------------------------------------------------------------------------------------------------------------------------------------------------------------------------------------------------------------------------------------------------------------------------------------------------------------------------------------------------------------------------------------------------------------------------------------------------------------------------------------------------------------------------------------------------------------------------------------------------------------------------------------------------------------------------------------------------------------------------------------------------------------------------------------------------------------------------------------------------------------------------------------------------------------------------------------------------------------------------------------------------------------------------------------------------------------------------------------------------------------------------------------------------------------------------------------------------------------------------------------------------------------------------------------------------------------------------------------------------------------------------------------------------------------------------------------------------------------------------------------------------------------------------------------------------------------------------------------------------------------------------------------------------------------------------------------------------------------------------------------------------------------------------------------------------------------------------------------------------------------------------------------------------------------------------------------------------------------------------------------------------------------------------------------------------------------------------------------------------------------------------------------------------------------------------------------------------------------------------------------------------------------------------------------------------------------------------------------------------------------------------------------------------------------------------------------------------------------------------------------------------------------------------------------------------------------------------------------------------------------------------------------------------------------------------------------------------------------------------------------------------------------------------------------------------------------------------------------------------------------------------------------------------------------------------------------------------------------------------------------------------------------------------------------------------------------------------------------------------------------------------------------------------------------------------------------------------------------------------------------------------------------------------------------------------------------------------------------------------------------------------------------------------------------------------------------------------------------------------------------------------------------------------------------------------------------------------------------------------------------------------------------------------------------------------------------------------------------------------------------------------------------------------------------------------------------------------------------------------------------------------------------------------------------------------------------------------------------------------------------------------------------------------------------------------------------------------------------------------------------------------------------------------------------------------------------------------------------------------------------------------------------------------------------------------------------------------------------------------------------------------------------------------------------------------------------------------------------------------------------------------------------------------------------------------------------------------------------\n",
       " ['Afatinib', 'Betamethasone', 'Dexamethasone', 'Trametinib', 'Dabrafenib', 'Cyclosporine', 'Menadione', 'Reserpine', 'Diflorasone', 'Mitomycin', 'Floxuridine', 'Levonorgestrel', 'Epirubicin', 'Raloxifene', 'Ivermectin', 'Mycophenolate mofetil', 'Daunorubicin', 'Tacrolimus', 'Fulvestrant', 'Cytarabine', 'Mycophenolic acid', 'Cerulenin', 'Quinacrine', 'Idarubicin', 'Mitoxantrone', 'Dasatinib', 'Vorinostat', 'Niclosamide', 'Nonoxynol-9', 'Triclosan', 'Pitavastatin', 'Vincristine', 'Pentamidine', 'Podofilox', 'Homoharringtonine', 'Ruxolitinib', 'Bisacodyl', 'Ouabain', 'Terbinafine', 'Varenicline', 'Flunisolide', 'Amcinonide', 'Fluorometholone', 'Desoximetasone', 'Fluticasone Propionate', 'Triamcinolone', 'Hydrocortisone', 'Estradiol', 'Donepezil', 'Flurandrenolide', 'Methylprednisolone', 'Clobetasol propionate', 'Thalidomide', 'Fluocinonide', 'Budesonide', 'Iopanoic acid', 'Sirolimus', 'Dactinomycin', 'Temsirolimus', 'Treprostinil', 'Nizatidine', 'Biperiden', 'Ritodrine', 'Vitamin A', 'Esmolol', 'Bortezomib', 'Cladribine', 'Cefmetazole', 'Trimethadione', 'Doxylamine', 'Alitretinoin', 'Alendronate', 'Clofarabine', 'Riluzole', 'Tretinoin', 'Suprofen', 'Didanosine', 'Ethacrynic acid', 'Spectinomycin', 'Azacitidine', 'Isotretinoin', 'Levobunolol', 'Nilotinib', 'Xylometazoline', 'Paroxetine', 'Vemurafenib', 'Benazepril', 'Clonidine', 'Fenoldopam', 'Levorphanol', 'Misoprostol', 'Bromfenac', 'Glipizide', 'Diclofenamide', 'Procaterol', 'Imipenem', 'Estriol', 'Ibudilast', 'Lovastatin', 'Simvastatin', 'Tamoxifen', 'Thioridazine', 'Perhexiline', 'Bosutinib', 'Topiramate', 'Sulpiride', 'Ampicillin', 'Epinephrine', 'Tubocurarine', 'Cyproterone acetate', 'Betahistine', 'Norethindrone', 'Adapalene', 'Clopidogrel', 'Lansoprazole', 'Lenalidomide', 'Mitotane', 'Sumatriptan', 'Nicergoline', 'Carbinoxamine', 'Pindolol', 'Glyburide', 'Probenecid', 'Levofloxacin', 'Ofloxacin', 'Flecainide', 'Sitagliptin', 'Ursodeoxycholic acid', 'Nitrazepam', 'Thiotepa', 'Rivaroxaban', 'Pazopanib', 'Chenodeoxycholic acid', 'Albendazole', 'Mebendazole', 'Eplerenone', 'Colchicine', 'Everolimus', 'Molindone', 'Flubendazole', 'Oxprenolol', 'Sorafenib', 'Hexachlorophene', 'Orciprenaline', 'Fenoterol', 'Vindesine', 'Digoxin', 'Busulfan', 'Moclobemide', 'Sunitinib', 'Digitoxin', 'Danazol', 'Testosterone Propionate', 'Ponatinib', 'Torasemide', 'Isradipine', 'Fluocinolone Acetonide', 'Disulfiram', 'Ethynodiol', 'Ciclopirox', 'Clenbuterol', 'Candesartan', 'Metrizamide', 'Benzylpenicillin', 'Estradiol valerate/Dienogest', 'Repaglinide', 'Domperidone', 'Ceforanide', 'Thiothixene', 'Anagrelide', 'Tenofovir', 'Pentobarbital', 'Remoxipride', 'Amodiaquine', 'Cefixime', 'Hydroflumethiazide', 'Naproxen', 'Trifluoperazine', 'Suramin', 'Fluspirilene', 'Testosterone', 'Amlodipine', 'Promazine', 'Nortriptyline', 'Fluvastatin', 'Amiodarone', 'Dihomo-gamma-linolenic acid', 'Carbidopa', 'Atomoxetine', 'Ropivacaine', 'Amitriptyline', 'Ethopropazine', 'Fluoxetine', 'Methoxsalen', 'Aciclovir', 'Maprotiline', 'Azathioprine', 'Diazoxide', 'Alpha-Linolenic Acid', 'Cefotiam', 'Acepromazine', 'Isoxsuprine', 'Pyrimethamine', 'Procyclidine', 'Carbachol', 'Chloramphenicol', 'Cefalotin', 'Aminocaproic Acid', 'Toremifene', 'Roxithromycin', 'Ribavirin', 'Chlorhexidine', 'Clomifene', 'Auranofin', 'Cromoglicic acid', 'Etidronic acid', 'Pilocarpine', 'Sertraline', 'Papaverine', 'Nifedipine', 'Sparfloxacin', 'Chlorprothixene', 'Lapatinib', 'Sulfadoxine', 'Tiaprofenic acid', 'Hexetidine', 'Fursultiamine', 'Alprazolam', 'Chloroxine', 'Calcipotriol', 'Citalopram', 'Mesalazine', 'Chlorambucil', 'Ipratropium bromide', 'Cimetidine', 'Stavudine', 'Pralidoxime', 'Ethotoin', 'Bumetanide', 'Balsalazide', 'Escitalopram', 'Clarithromycin', 'Quinethazone', 'Cyproheptadine', 'Metaxalone', 'Olopatadine', 'Dexmedetomidine', 'Etodolac', 'Aminosalicylic Acid', 'Theophylline', 'Aminohippurate', 'Streptozocin', 'Bacitracin', 'Ondansetron', 'Methantheline', 'Gabapentin', 'Trichlormethiazide', 'Nitrendipine', 'Gliclazide', 'Diphenylpyraline', 'Cyclizine', 'Paromomycin', 'Hydroxychloroquine', 'Conjugated Estrogens', 'Dipivefrin', 'Droperidol', 'Gemfibrozil', 'Estropipate', 'Raltegravir', 'Flurbiprofen', 'Dienestrol', 'Indinavir', 'Cabergoline', 'Zolmitriptan', 'Cyclophosphamide', 'Carbamazepine', 'Phenelzine', 'Temozolomide', 'Alprenolol', 'Methyldopa', 'Nefazodone', 'Captopril', 'Thioproperazine', 'Diphenidol', 'Fluconazole', 'Orphenadrine', 'Nisoldipine', 'Nitazoxanide', 'Granisetron', 'Zalcitabine', 'Quetiapine', 'Pimozide', 'Deferiprone', 'Phenytoin', 'Flucloxacillin', 'Fluorouracil', 'Enalapril', 'Carprofen', 'Melatonin', 'Medrysone', 'Beclomethasone', 'Triprolidine', 'Doxapram', 'Naltrexone', 'Perphenazine', 'Aminolevulinic acid', 'Prednisolone', 'Salmeterol', 'Exemestane', 'Rosuvastatin', 'Flucytosine', 'Methyltestosterone', 'Triflupromazine', 'Chlorpromazine', 'Atorvastatin', 'L-Glutamine', 'Methylergometrine', 'Cinchocaine', 'Ezetimibe', 'Glucosamine', 'Tetrabenazine', 'Iloperidone', 'Fluvoxamine', 'Tranexamic Acid', 'Phenylpropanolamine', 'Cephalexin', 'Efavirenz', 'Loperamide', 'Dexfenfluramine', 'Decitabine', 'Yohimbine', 'Trioxsalen', 'Raltitrexed', 'Cinalukast', 'Zileuton', 'Imatinib', 'Loxapine', 'Pentoxifylline', 'Metformin', 'Orlistat', 'Penciclovir', 'Omeprazole', 'Esomeprazole', 'Ketoprofen', 'Rabeprazole', 'Roxatidine acetate', 'Sulfathiazole', 'Calcitriol', 'Linezolid', 'Irbesartan', 'Betazole', 'Ethionamide', 'Prednisone', 'Finasteride', 'Bromhexine', 'Ropinirole', 'Carbimazole', 'Darifenacin', 'Propylthiouracil', 'Sulfamethizole', 'Mecamylamine', 'Dirithromycin', 'Rivastigmine', 'Levetiracetam', 'Niacin', 'Famciclovir', 'Rifampicin', 'Olanzapine', 'Penicillin V', 'Gatifloxacin', 'Erythromycin', 'Oxiconazole', 'Acetaminophen', 'Progesterone', 'Sulfacetamide', 'Oxymetazoline', 'Pheniramine', 'Oxandrolone', 'Indomethacin', 'Oxcarbazepine', 'Amantadine', 'Cefaclor', 'Proparacaine', 'Novobiocin', 'Sildenafil', 'Tetrahydrobiopterin', 'Icosapent', 'Nicotine', 'Haloprogin', 'Ganciclovir', 'L-DOPA', 'Alizapride', 'Etoricoxib', 'Latamoxef', 'Tamibarotene', 'Stanozolol', 'Iopamidol', 'Hydrochlorothiazide', 'Chlormezanone', 'Enoxacin', 'Cinnarizine', 'Diclofenac', 'Lamivudine', 'Phenylbutazone', 'Sulfapyridine', 'Emedastine', 'Cefuroxime', 'Bretylium', 'Acenocoumarol', 'Mepenzolate', 'Calcidiol', 'Cisapride', 'Pivmecillinam', 'Mifepristone', 'Bromocriptine', 'Tizanidine', 'Azelastine', 'Diosmin', 'Vitamin E', 'Rosiglitazone', 'Dapsone', 'Ketorolac', 'Estrone', 'Thiabendazole', 'Meclofenamic acid', 'Praziquantel', 'Nadolol', 'Alfacalcidol', 'Dihydroergotamine', 'Propantheline', 'Biotin', 'Dinoprostone', 'Pravastatin', 'Nabumetone', 'Tolbutamide', 'Formoterol', 'Arformoterol', 'Monobenzone', 'Nitrofural', 'Tramadol', 'Leflunomide', 'Chlorphenamine', 'Ciprofloxacin', 'Tinidazole', 'Asenapine', 'Flutamide', 'Altretamine', 'Ranitidine', 'Methazolamide', 'Eprosartan', 'Spironolactone', 'Medroxyprogesterone Acetate', 'Norgestimate', 'Bupropion', 'Adenosine monophosphate', 'Metoprolol', 'Cilostazol', 'Fenbufen', 'Naphazoline', 'Protriptyline', 'Chloroquine', 'Azithromycin', 'Levothyroxine', 'Dextrothyroxine', 'Propofol', 'Bambuterol', 'Cefepime', 'Maraviroc', 'Lamotrigine', 'Procaine', 'Pioglitazone', 'Liotrix', 'Vardenafil', 'Alverine', 'Etofenamate', 'Tocainide', 'Acarbose', 'Etomidate', 'Tiagabine', 'Milnacipran', 'Levomilnacipran', 'Entacapone', 'Zidovudine', 'Doxepin', 'Flumazenil', 'Isometheptene', 'Sulfasalazine', 'Econazole', 'Phentermine', 'Diflunisal', 'Isoprenaline', 'Equilin', 'Timolol', 'Pyrazinamide', 'Midodrine', 'Chlorthalidone', 'Dexbrompheniramine', 'Loratadine', 'Midazolam', 'Brompheniramine', 'Clofazimine', 'Bicalutamide', 'Carvedilol', 'Mestranol', 'Tolazamide', 'Rimexolone', 'Amoxicillin', 'Prednicarbate', 'Valsartan', 'Dofetilide', 'Methimazole', 'Nalbuphine', 'Fexofenadine', 'Ethinyl Estradiol', 'Memantine', 'Flavoxate', 'Dinoprost Tromethamine', 'Kanamycin', 'Pancuronium', 'Theobromine', 'Ethosuximide', 'Famotidine', 'Reboxetine', 'Metaraminol', 'Anastrozole', 'Plerixafor', 'Clemastine', 'Diltiazem', 'Hyoscyamine', 'Atropine', 'Dextropropoxyphene', 'Sibutramine', 'Sulfinpyrazone', 'Procarbazine', 'Mephentermine', 'Bacampicillin', 'Sertindole', 'Piperacillin', 'Mefloquine', 'Quinine', 'Lisinopril', 'Quinidine', 'Hexylcaine', 'Trifluridine', 'Tolnaftate', 'Metixene', 'Potassium Canrenoate', 'Moricizine', 'Primidone', 'Mafenide', 'Cycloserine', 'Bendroflumethiazide', 'Phensuximide', 'Norfloxacin', 'Ranolazine', 'Astemizole', 'Acetylsalicylic acid', 'Miconazole', 'Sulfadimethoxine', 'Cloperastine', 'Mefenamic acid', 'Idoxuridine', 'Ritonavir', 'Naloxone', 'Phenazopyridine', 'Articaine', 'Triamterene', 'Mesoridazine', 'Desipramine', 'Propafenone', 'Iobenguane', 'Glycopyrrolate', 'Alimemazine', 'Ticarcillin', 'Pantoprazole', 'Nicardipine', 'Ergonovine', 'Halofantrine', 'Propranolol', 'Aminoglutethimide', 'Bosentan', 'Primaquine', 'Modafinil', 'Zonisamide', 'Vidarabine', 'Mirtazapine', 'Adenosine', 'Phenoxybenzamine', 'Acetylcysteine', 'Ketotifen', 'Butoconazole', 'Nelfinavir', 'Dorzolamide', 'Dexrazoxane', 'Clodronate', 'Sulfamethoxazole', 'Aripiprazole', 'Ketoconazole', 'Duloxetine', 'Rimonabant', 'Sertaconazole', 'Crotamiton', 'Clozapine', 'Buspirone', 'Perindopril', 'Tolazoline', 'Iodixanol', 'Alfuzosin', 'Ifenprodil', 'Cetirizine', 'Guanabenz', 'Dopamine', 'Benzatropine', 'Haloperidol', 'Rifabutin', 'Phentolamine', 'Mepivacaine', 'Methotrimeprazine', 'Oxybenzone', 'Mianserin', 'Diloxanide', 'Chloropyramine', 'Tolcapone', 'Iodipamide', 'Nalidixic Acid', 'Niflumic Acid'] "
      ]
     },
     "execution_count": 29,
     "metadata": {},
     "output_type": "execute_result"
    }
   ],
   "source": [
    "query2 = f\"\"\"MATCH (d:Disease {{id: '{'Disease::DOID:1324'}'}})\n",
    "MATCH (d)-[:DlA]->(a:Anatomy)\n",
    "MATCH (a)-[:AuG]->(g:Gene)\n",
    "MATCH (c:Compound)-[:CdG]->(g) \n",
    "WHERE NOT (c)-[:CtD]->(d) AND NOT (c)-[:CpD]->(d) \n",
    "RETURN COLLECT(DISTINCT c.name) AS new_treatment_compounds\"\"\"\n",
    "\n",
    "graph.run(query2)"
   ]
  },
  {
   "attachments": {},
   "cell_type": "markdown",
   "metadata": {},
   "source": [
    "For graphical representation, I used this cypher Query:\n",
    "\n",
    "MATCH (d:Disease {id: 'Disease::DOID:1324'})   <br>\n",
    "MATCH (d)-[:DlA]->(a:Anatomy)   <br>\n",
    "MATCH (a)-[:AuG]->(g:Gene)   <br>\n",
    "MATCH (c:Compound)-[:CdG]->(g)   <br>\n",
    "WHERE NOT (c)-[:CtD]->(d) AND NOT (c)-[:CpD]->(d)  <br>\n",
    "RETURN d, a, g, c"
   ]
  },
  {
   "attachments": {},
   "cell_type": "markdown",
   "metadata": {},
   "source": [
    "![Alt text](./Images/query2.png)\n"
   ]
  },
  {
   "attachments": {},
   "cell_type": "markdown",
   "metadata": {},
   "source": [
    "# Areas of Improvement"
   ]
  },
  {
   "attachments": {},
   "cell_type": "markdown",
   "metadata": {},
   "source": [
    "**Data Loading Efficiency:** One of the primary areas for improvement is the time required to load the database, which took over 10 hours to iterate through the 23K nodes and 1.3 million edges. Optimizing the algorithm for traversing the graph or implementing a batching approach could significantly reduce the load time, enhancing overall efficiency.\n",
    "\n",
    "**User Interface and Output Presentation:** The current output formatting could be improved to provide a cleaner, more user-friendly experience. Enhancing the presentation of results—while maintaining the time efficiency of the underlying code—would make the output easier to interpret, improving both usability and clarity for users."
   ]
  },
  {
   "attachments": {},
   "cell_type": "markdown",
   "metadata": {},
   "source": [
    "# Python Command Line Client"
   ]
  },
  {
   "attachments": {},
   "cell_type": "markdown",
   "metadata": {},
   "source": [
    "Please see the `neo4jCLC.py` file for the implementation of the Command Line Client."
   ]
  }
 ],
 "metadata": {
  "kernelspec": {
   "display_name": "base",
   "language": "python",
   "name": "python3"
  },
  "language_info": {
   "codemirror_mode": {
    "name": "ipython",
    "version": 3
   },
   "file_extension": ".py",
   "mimetype": "text/x-python",
   "name": "python",
   "nbconvert_exporter": "python",
   "pygments_lexer": "ipython3",
   "version": "3.12.3"
  },
  "orig_nbformat": 4,
  "vscode": {
   "interpreter": {
    "hash": "40d3a090f54c6569ab1632332b64b2c03c39dcf918b08424e98f38b5ae0af88f"
   }
  }
 },
 "nbformat": 4,
 "nbformat_minor": 2
}
